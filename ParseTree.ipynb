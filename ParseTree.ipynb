{
 "cells": [
  {
   "cell_type": "code",
   "execution_count": 22,
   "id": "48d523a8",
   "metadata": {},
   "outputs": [
    {
     "name": "stdout",
     "output_type": "stream",
     "text": [
      "(S\n",
      "  (NP ASTRONOMERS)\n",
      "  (VP (VP (V SAW) (NP STARS)) (PP (P WITH) (NP EARS))))\n",
      "                      S                    \n",
      "      ________________|____                 \n",
      "     |                     VP              \n",
      "     |            _________|________        \n",
      "     |           VP                 PP     \n",
      "     |        ___|____          ____|___    \n",
      "     NP      V        NP       P        NP \n",
      "     |       |        |        |        |   \n",
      "ASTRONOMERS SAW     STARS     WITH     EARS\n",
      "\n",
      "(S\n",
      "  (NP ASTRONOMERS)\n",
      "  (VP (V SAW) (NP (NP STARS) (PP (P WITH) (NP EARS)))))\n",
      "                  S                    \n",
      "      ____________|____                 \n",
      "     |                 VP              \n",
      "     |        _________|___             \n",
      "     |       |             NP          \n",
      "     |       |     ________|____        \n",
      "     |       |    |             PP     \n",
      "     |       |    |         ____|___    \n",
      "     NP      V    NP       P        NP \n",
      "     |       |    |        |        |   \n",
      "ASTRONOMERS SAW STARS     WITH     EARS\n",
      "\n"
     ]
    }
   ],
   "source": [
    "import nltk\n",
    "from nltk import word_tokenize\n",
    "from nltk.tree import *\n",
    "t1=nltk.CFG.fromstring(\"\"\"\n",
    "S -> NP VP\n",
    "PP -> P NP\n",
    "NP -> NP PP\n",
    "VP -> V NP |  VP PP\n",
    "P -> 'WITH'\n",
    "V -> 'SAW'\n",
    "NP -> 'ASTRONOMERS' | 'EARS' | 'SAW' | 'STARS' | 'TELESCOPE'\n",
    "\"\"\")\n",
    "\n",
    "s='ASTRONOMERS SAW STARS WITH EARS'\n",
    "t=word_tokenize(s)\n",
    "p=nltk.ChartParser(t1)\n",
    "\n",
    "for tree in p.parse(t):\n",
    "    print(tree)\n",
    "    \n",
    "    tree.pretty_print()\n"
   ]
  },
  {
   "cell_type": "code",
   "execution_count": null,
   "id": "37d9fbcb",
   "metadata": {},
   "outputs": [],
   "source": []
  }
 ],
 "metadata": {
  "kernelspec": {
   "display_name": "Python 3",
   "language": "python",
   "name": "python3"
  },
  "language_info": {
   "codemirror_mode": {
    "name": "ipython",
    "version": 3
   },
   "file_extension": ".py",
   "mimetype": "text/x-python",
   "name": "python",
   "nbconvert_exporter": "python",
   "pygments_lexer": "ipython3",
   "version": "3.8.8"
  }
 },
 "nbformat": 4,
 "nbformat_minor": 5
}
